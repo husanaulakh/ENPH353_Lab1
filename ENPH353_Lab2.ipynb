{
  "nbformat": 4,
  "nbformat_minor": 0,
  "metadata": {
    "colab": {
      "provenance": [],
      "authorship_tag": "ABX9TyOTZJYKeaHlNTfcYnfbiHhE",
      "include_colab_link": true
    },
    "kernelspec": {
      "name": "python3",
      "display_name": "Python 3"
    },
    "language_info": {
      "name": "python"
    }
  },
  "cells": [
    {
      "cell_type": "markdown",
      "metadata": {
        "id": "view-in-github",
        "colab_type": "text"
      },
      "source": [
        "<a href=\"https://colab.research.google.com/github/husanaulakh/ENPH353_Lab1/blob/main/ENPH353_Lab2.ipynb\" target=\"_parent\"><img src=\"https://colab.research.google.com/assets/colab-badge.svg\" alt=\"Open In Colab\"/></a>"
      ]
    },
    {
      "cell_type": "code",
      "execution_count": null,
      "metadata": {
        "id": "SsuO7BzgeLZE",
        "colab": {
          "base_uri": "https://localhost:8080/"
        },
        "outputId": "f5c97803-f5f3-424f-8833-d09de04bbb0f"
      },
      "outputs": [
        {
          "output_type": "stream",
          "name": "stdout",
          "text": [
            "Mounted at /content/drive\n"
          ]
        }
      ],
      "source": [
        "from google.colab import drive\n",
        "drive.mount('/content/drive')"
      ]
    },
    {
      "cell_type": "code",
      "source": [
        "#packages\n",
        "import numpy as np\n",
        "import matplotlib.pyplot as plt\n",
        "import cv2\n",
        "%matplotlib inline"
      ],
      "metadata": {
        "id": "hLXQBhkxkn6o"
      },
      "execution_count": null,
      "outputs": []
    },
    {
      "cell_type": "code",
      "source": [
        "def getCoordinates(frame, radius, frameHeight):\n",
        "  strip = frame[-radius,:,1]\n",
        "  road = np.where(strip<100)[0]\n",
        "  if len(road) == 0:\n",
        "    return (-100,-100)\n",
        "  center = (road[-1] + road[0])//2\n",
        "  return (center,frameHeight-radius)\n",
        "\n",
        "\n",
        "def writeCoordinates(frame, circleCoordinates, width):\n",
        "  position = int(np.ceil(circleCoordinates[0]/(width//10)))\n",
        "  if position == 0: return\n",
        "  ballCoordinates = np.zeros(10)\n",
        "  ballCoordinates[position-1] = 1\n",
        "  text = str(ballCoordinates)\n",
        "  frame = cv2.putText(frame,text=text, org=(10,25), fontFace=cv2.FONT_HERSHEY_SIMPLEX, \n",
        "                      fontScale=0.5, color=(255,255,255), thickness=2)"
      ],
      "metadata": {
        "id": "sS6OAEb49t3J"
      },
      "execution_count": null,
      "outputs": []
    },
    {
      "cell_type": "code",
      "source": [
        "video_name = \"/content/drive/My Drive/Colab Notebooks/raw_video_feed.mp4\"\n",
        "video_reader = cv2.VideoCapture(video_name)\n",
        "ret, frame = video_reader.read()\n",
        "# Create a video file to write to:\n",
        "height, width, channels = frame.shape\n",
        "radius = 20\n",
        "fourcc = cv2.VideoWriter_fourcc(*'XVID')\n",
        "fps = video_reader.get(cv2.CAP_PROP_FPS)\n",
        "out = cv2.VideoWriter('output.mp4', fourcc, fps, (width, height))\n",
        "\n",
        "if video_reader.isOpened() == False:\n",
        "  print(\"Error Opening video file\")\n",
        "\n",
        "while(video_reader.isOpened()):\n",
        "  ret, frame = video_reader.read()\n",
        "  if ret:\n",
        "    coordinates = getCoordinates(frame, radius, frameHeight=height)\n",
        "    frame = cv2.circle(frame, center=coordinates, radius=radius, color=(0,0,255), thickness=-1)\n",
        "    writeCoordinates(frame,circleCoordinates=coordinates,width=width)\n",
        "    out.write(frame)\n",
        "  else:\n",
        "    print(\"Done processing\")\n",
        "    break\n",
        "\n",
        "video_reader.release()\n",
        "out.release()\n",
        "cv2.destroyAllWindows()"
      ],
      "metadata": {
        "id": "1HnwQtMmaqmb",
        "colab": {
          "base_uri": "https://localhost:8080/"
        },
        "outputId": "29621aae-7a74-40a1-a170-08791c17689b"
      },
      "execution_count": null,
      "outputs": [
        {
          "output_type": "stream",
          "name": "stdout",
          "text": [
            "Done processing\n"
          ]
        }
      ]
    }
  ]
}